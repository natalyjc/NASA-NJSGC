{
 "cells": [
  {
   "cell_type": "code",
   "execution_count": null,
   "id": "4f427aaa-4c47-4c3b-9b56-f772bd9d7096",
   "metadata": {},
   "outputs": [],
   "source": [
    "import aiohttp\n",
    "import asyncio\n",
    "import nest_asyncio\n",
    "import pandas as pd\n",
    "import numpy as np\n",
    "import requests\n",
    "import json\n",
    "import time\n",
    "from tqdm import tqdm # to track progress and time taken to extract data\n",
    "import re"
   ]
  },
  {
   "cell_type": "markdown",
   "id": "afa1ec30-5cb4-4a7b-a72e-7ae4ea29ca59",
   "metadata": {},
   "source": [
    "### Extracting Earth close approach data for NEOs"
   ]
  },
  {
   "cell_type": "code",
   "execution_count": null,
   "id": "3946f2ac-93b2-42f4-8034-c76d6bdb449c",
   "metadata": {},
   "outputs": [],
   "source": [
    "# Because data was orginally extracted using its 'des' as a lookup for the API request, it resulted in objects having NaN values for orbital features\n",
    "# Objects with NaN values will be extracted using its 'fullname', an optional parameter from the SBDB Close-Approach Data API"
   ]
  },
  {
   "cell_type": "code",
   "execution_count": null,
   "id": "e4271026-a11c-4f0c-80b8-bf395c740c5d",
   "metadata": {},
   "outputs": [],
   "source": [
    "# using SDBD Close-Approach Data API, getting all Earth close approach data for NEOs on or after Jan 01, 2004 up to June 1, 2024 with fullname = true\n",
    "data_url = \"https://ssd-api.jpl.nasa.gov/cad.api?date-min=2004-01-01&date-max=2024-06-01&fullname=true\"\n",
    "r = requests.get(data_url)\n",
    "data = json.loads(r.text)"
   ]
  },
  {
   "cell_type": "code",
   "execution_count": null,
   "id": "d5dc205c-c547-40c2-b2e4-49191c8872ee",
   "metadata": {},
   "outputs": [],
   "source": [
    "fields = data['fields']\n",
    "data_list = data['data']"
   ]
  },
  {
   "cell_type": "code",
   "execution_count": null,
   "id": "2231f7d6-cec1-410c-9208-a2700bf1a2ea",
   "metadata": {},
   "outputs": [],
   "source": [
    "df = pd.DataFrame(data_list, columns=fields)\n",
    "df.to_csv(\"original_neo_data.csv\", index=False)"
   ]
  },
  {
   "cell_type": "markdown",
   "id": "30146f4b-fff7-41be-ba26-9ef8cce13bc4",
   "metadata": {},
   "source": [
    "### Extracting orbital data from original NEO dataset"
   ]
  },
  {
   "cell_type": "code",
   "execution_count": null,
   "id": "ac8e2390-9ae5-4cff-888c-c9dd0b6d3637",
   "metadata": {},
   "outputs": [],
   "source": [
    "api_key = # generated from https://api.nasa.gov/\n",
    "base_url = \"https://api.nasa.gov/neo/rest/v1/neo/{des}?api_key=\" + api_key\n",
    "og_neo_data = pd.read_csv('original_neo_data.csv')"
   ]
  },
  {
   "cell_type": "code",
   "execution_count": null,
   "id": "5b4b0955-c9c6-4be5-99de-86ff5efe48ab",
   "metadata": {},
   "outputs": [],
   "source": [
    "# define new columns/data to be extracted from NASA API\n",
    "# viewed using Postman API Platform\n",
    "new_columns = [\n",
    "    'estimated_diameter_min_km', 'estimated_diameter_max_km', 'data_arc_in_days', \n",
    "    'observations_used', 'orbit_uncertainty', 'minimum_orbit_intersection',\n",
    "    'jupiter_tisserand_invariant', 'epoch_osculation', 'eccentricity', \n",
    "    'semi_major_axis', 'inclination', 'ascending_node_longitude',\n",
    "    'orbital_period', 'perihelion_distance', 'perihelion_argument', \n",
    "    'aphelion_distance', 'perihelion_time', 'mean_anomaly', 'mean_motion',\n",
    "    'is_potentially_hazardous_asteroid'\n",
    "]"
   ]
  },
  {
   "cell_type": "code",
   "execution_count": null,
   "id": "659761cd-03cd-4557-a144-0c5ba56d181d",
   "metadata": {},
   "outputs": [],
   "source": [
    "# adding new columns to neo data df, initializing with None values\n",
    "for col in new_columns:\n",
    "    og_neo_data[col] = None \n",
    "\n",
    "# fetch data from the NASA API\n",
    "def fetch_neo_data(des):\n",
    "    try:\n",
    "        response = requests.get(BASE_URL.format(fullname=fullname)) # HTTP get request to NASA API\n",
    "        response.raise_for_status()  # HTTP errors\n",
    "        data = response.json() # converting JSON response from NASA API to dict\n",
    "        return {\n",
    "            # features to be extracted \n",
    "            'estimated_diameter_min_km': data['estimated_diameter']['kilometers']['estimated_diameter_min'],\n",
    "            'estimated_diameter_max_km': data['estimated_diameter']['kilometers']['estimated_diameter_max'],\n",
    "            'data_arc_in_days': data['orbital_data']['data_arc_in_days'],\n",
    "            'observations_used': data['orbital_data']['observations_used'],\n",
    "            'orbit_uncertainty': data['orbital_data']['orbit_uncertainty'],\n",
    "            'minimum_orbit_intersection': data['orbital_data']['minimum_orbit_intersection'],\n",
    "            'jupiter_tisserand_invariant': data['orbital_data']['jupiter_tisserand_invariant'],\n",
    "            'epoch_osculation': data['orbital_data']['epoch_osculation'],\n",
    "            'eccentricity': data['orbital_data']['eccentricity'],\n",
    "            'semi_major_axis': data['orbital_data']['semi_major_axis'],\n",
    "            'inclination': data['orbital_data']['inclination'],\n",
    "            'ascending_node_longitude': data['orbital_data']['ascending_node_longitude'],\n",
    "            'orbital_period': data['orbital_data']['orbital_period'],\n",
    "            'perihelion_distance': data['orbital_data']['perihelion_distance'],\n",
    "            'perihelion_argument': data['orbital_data']['perihelion_argument'],\n",
    "            'aphelion_distance': data['orbital_data']['aphelion_distance'],\n",
    "            'perihelion_time': data['orbital_data']['perihelion_time'],\n",
    "            'mean_anomaly': data['orbital_data']['mean_anomaly'],\n",
    "            'mean_motion': data['orbital_data']['mean_motion'],\n",
    "            'is_potentially_hazardous_asteroid': data['is_potentially_hazardous_asteroid'] # label\n",
    "        }\n",
    "    # handling objects that are looked up and not in the NASA API\n",
    "    except requests.exceptions.RequestException as e:\n",
    "        print(f\"API request failed for {des}: {e}\")\n",
    "        return {}\n",
    "\n",
    "# for each row, fetch data from API, then update neo_data df\n",
    "request_count = 0 \n",
    "start_time = time.time()\n",
    "# save_interval = 100  # saving neo_data df every 100 rows\n",
    "\n",
    "# https://github.com/softhints/Pandas-Tutorials/blob/master/tqdm/1.progress-bars-pandas-python-tqdm.ipynb\n",
    "for index, row in tqdm(og_neo_data.iterrows(), total=og_neo_data.shape[0]):\n",
    "    # if request count is less than 1000, show progress time\n",
    "    if request_count >= 1000: # 1000 requests per hour \n",
    "        elapsed_time = time.time() - start_time \n",
    "        sleep_time = 3600 - elapsed_time\n",
    "        if sleep_time > 0:\n",
    "            print(f\"Rate limit reached, sleeping for {sleep_time:.2f} seconds.\")\n",
    "            time.sleep(sleep_time)\n",
    "        start_time = time.time()\n",
    "        request_count = 0\n",
    "        \n",
    "    # extract text within parentheses from 'fullname' column\n",
    "    fullname = row['fullname']\n",
    "    match = re.search(r'\\((.*?)\\)', fullname)\n",
    "    if match:\n",
    "        name_in_parentheses = match.group(1)\n",
    "    else:\n",
    "        continue\n",
    "    \n",
    "    # call fetch function for current object in 'fullname' col of neo_data df\n",
    "    api_data = fetch_neo_data(name_in_parenthesis) # access value in 'fullname' col for current row, saving dictionary of data to api_data\n",
    "\n",
    "    # if api_data is not empty\n",
    "    if api_data: \n",
    "        # for each key, value in dict, update to neo_data df\n",
    "        for key, value in api_data.items():\n",
    "            og_neo_data.at[index, key] = value\n",
    "\n",
    "    request_count += 1 # increment request count\n",
    "\n",
    "    # code to print progress and save intermediate results every 100 entries\n",
    "    # if (index + 1) % save_interval == 0:\n",
    "        # print(f\"Processed {index + 1} rows. Saving intermediate results.\")\n",
    "        # neo_data.to_csv(f'intermediate_neo_data_{index + 1}.csv', index=False)\n",
    "\n",
    "# save expanded data to new csv file\n",
    "og_neo_data.to_csv('final_neo_data.csv', index=False)\n",
    "print(\"data fetching complete\")"
   ]
  }
 ],
 "metadata": {
  "kernelspec": {
   "display_name": "Python 3 (ipykernel)",
   "language": "python",
   "name": "python3"
  },
  "language_info": {
   "codemirror_mode": {
    "name": "ipython",
    "version": 3
   },
   "file_extension": ".py",
   "mimetype": "text/x-python",
   "name": "python",
   "nbconvert_exporter": "python",
   "pygments_lexer": "ipython3",
   "version": "3.11.5"
  }
 },
 "nbformat": 4,
 "nbformat_minor": 5
}
